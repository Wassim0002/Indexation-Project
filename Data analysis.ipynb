{
 "cells": [
  {
   "cell_type": "markdown",
   "id": "20b3d9f2-db0a-4960-8ad1-dce81e55225c",
   "metadata": {},
   "source": [
    "Réalisé par: <b> BERGHOUT Ouassim </b> <br/> <b> BELHADJI Rafik </b>"
   ]
  },
  {
   "cell_type": "markdown",
   "id": "99884bfe-ad3e-4519-a3b2-f982492d706c",
   "metadata": {},
   "source": [
    "# Téléchargement du dataset "
   ]
  },
  {
   "cell_type": "code",
   "execution_count": 1,
   "id": "f07ad794-b7af-4559-bee7-2ec984836272",
   "metadata": {},
   "outputs": [],
   "source": [
    "# import kagglehub\n",
    "\n",
    "# # Download latest version\n",
    "# path = kagglehub.dataset_download(\"filipkin/steam-reviews\")\n",
    "\n",
    "# print(\"Path to dataset files:\", path)"
   ]
  },
  {
   "cell_type": "code",
   "execution_count": 2,
   "id": "f9fe49b2-9b44-4ad1-978d-fbcd4e3385d3",
   "metadata": {},
   "outputs": [],
   "source": [
    "import pandas as pd\n",
    "import matplotlib.pyplot as plt\n",
    "import numpy as np"
   ]
  },
  {
   "cell_type": "code",
   "execution_count": 3,
   "id": "c37a99bc-8a49-4b7b-8dfe-ced38442dcc9",
   "metadata": {
    "scrolled": true
   },
   "outputs": [
    {
     "data": {
      "text/html": [
       "<div>\n",
       "<style scoped>\n",
       "    .dataframe tbody tr th:only-of-type {\n",
       "        vertical-align: middle;\n",
       "    }\n",
       "\n",
       "    .dataframe tbody tr th {\n",
       "        vertical-align: top;\n",
       "    }\n",
       "\n",
       "    .dataframe thead th {\n",
       "        text-align: right;\n",
       "    }\n",
       "</style>\n",
       "<table border=\"1\" class=\"dataframe\">\n",
       "  <thead>\n",
       "    <tr style=\"text-align: right;\">\n",
       "      <th></th>\n",
       "      <th>id</th>\n",
       "      <th>app_id</th>\n",
       "      <th>content</th>\n",
       "      <th>author_id</th>\n",
       "      <th>is_positive</th>\n",
       "    </tr>\n",
       "  </thead>\n",
       "  <tbody>\n",
       "    <tr>\n",
       "      <th>0</th>\n",
       "      <td>181331361</td>\n",
       "      <td>100</td>\n",
       "      <td>At least its a counter strike -1/100</td>\n",
       "      <td>76561199556485100</td>\n",
       "      <td>Negative</td>\n",
       "    </tr>\n",
       "    <tr>\n",
       "      <th>1</th>\n",
       "      <td>180872601</td>\n",
       "      <td>100</td>\n",
       "      <td>Uh... So far my playthrough has not been great...</td>\n",
       "      <td>76561199230620391</td>\n",
       "      <td>Negative</td>\n",
       "    </tr>\n",
       "    <tr>\n",
       "      <th>2</th>\n",
       "      <td>177836246</td>\n",
       "      <td>100</td>\n",
       "      <td>Better mechanics than cs2</td>\n",
       "      <td>76561198417690647</td>\n",
       "      <td>Negative</td>\n",
       "    </tr>\n",
       "    <tr>\n",
       "      <th>3</th>\n",
       "      <td>177287444</td>\n",
       "      <td>100</td>\n",
       "      <td>buggy mess and NOT fun to play at all</td>\n",
       "      <td>76561199077268730</td>\n",
       "      <td>Negative</td>\n",
       "    </tr>\n",
       "    <tr>\n",
       "      <th>4</th>\n",
       "      <td>176678990</td>\n",
       "      <td>100</td>\n",
       "      <td>Whoever came up with this, is gonna fucking ge...</td>\n",
       "      <td>76561199104544266</td>\n",
       "      <td>Negative</td>\n",
       "    </tr>\n",
       "  </tbody>\n",
       "</table>\n",
       "</div>"
      ],
      "text/plain": [
       "          id  app_id                                            content  \\\n",
       "0  181331361     100               At least its a counter strike -1/100   \n",
       "1  180872601     100  Uh... So far my playthrough has not been great...   \n",
       "2  177836246     100                          Better mechanics than cs2   \n",
       "3  177287444     100              buggy mess and NOT fun to play at all   \n",
       "4  176678990     100  Whoever came up with this, is gonna fucking ge...   \n",
       "\n",
       "           author_id is_positive  \n",
       "0  76561199556485100    Negative  \n",
       "1  76561199230620391    Negative  \n",
       "2  76561198417690647    Negative  \n",
       "3  76561199077268730    Negative  \n",
       "4  76561199104544266    Negative  "
      ]
     },
     "execution_count": 3,
     "metadata": {},
     "output_type": "execute_result"
    }
   ],
   "source": [
    "df = pd.read_csv(\"Dataset/output.csv\")\n",
    "df.head()"
   ]
  },
  {
   "cell_type": "markdown",
   "id": "1655226b-52e2-4887-9f1e-d604f2306693",
   "metadata": {},
   "source": [
    "# Analyses des données"
   ]
  },
  {
   "cell_type": "markdown",
   "id": "6b85457a-8241-4a65-a0c1-e1c8dc676bf7",
   "metadata": {},
   "source": [
    "### La taille du dataset"
   ]
  },
  {
   "cell_type": "code",
   "execution_count": 4,
   "id": "30ce954e-5131-43cb-8cec-f33bef203748",
   "metadata": {},
   "outputs": [
    {
     "data": {
      "text/plain": [
       "(201151, 5)"
      ]
     },
     "execution_count": 4,
     "metadata": {},
     "output_type": "execute_result"
    }
   ],
   "source": [
    "df.shape"
   ]
  },
  {
   "cell_type": "markdown",
   "id": "68932b8e-b14b-4881-badb-a6b1e8a2c286",
   "metadata": {},
   "source": [
    "### Le nombre de jeux notés dans ce dataset"
   ]
  },
  {
   "cell_type": "code",
   "execution_count": 5,
   "id": "64b50368-433a-48a1-b4ff-7d3be989ca2b",
   "metadata": {},
   "outputs": [
    {
     "name": "stdout",
     "output_type": "stream",
     "text": [
      "Le nombre de jeux notés dans ce dataset: 50\n"
     ]
    }
   ],
   "source": [
    "print(f\"Le nombre de jeux notés dans ce dataset: {len(df.app_id.unique())}\")"
   ]
  },
  {
   "cell_type": "markdown",
   "id": "a80683fe-8a2f-4703-af4d-54239eb9416b",
   "metadata": {},
   "source": [
    "### Le nombre de personnes dans ce dataset"
   ]
  },
  {
   "cell_type": "code",
   "execution_count": 6,
   "id": "c661e524-e770-4593-81d3-9e7bfad0ac45",
   "metadata": {},
   "outputs": [
    {
     "name": "stdout",
     "output_type": "stream",
     "text": [
      "Le nombre de personnes dans ce dataset: 173886\n"
     ]
    }
   ],
   "source": [
    "print(f\"Le nombre de personnes dans ce dataset: {len(df.author_id.unique())}\")"
   ]
  },
  {
   "cell_type": "markdown",
   "id": "a5d45fc1-15c8-4408-823d-e3e128d7768e",
   "metadata": {},
   "source": [
    "### La répartition des avis dans ce dataset"
   ]
  },
  {
   "cell_type": "code",
   "execution_count": 7,
   "id": "3c3b1e6e-5e23-4500-bab9-b32081ae8a0f",
   "metadata": {},
   "outputs": [
    {
     "name": "stdout",
     "output_type": "stream",
     "text": [
      "La répartition des avis dans ce dataset: is_positive\n",
      "Positive    102660\n",
      "Negative     98491\n",
      "Name: count, dtype: int64\n"
     ]
    }
   ],
   "source": [
    "print(f\"La répartition des avis dans ce dataset: {df.is_positive.value_counts()}\")"
   ]
  },
  {
   "cell_type": "code",
   "execution_count": 8,
   "id": "fcf16bb1-e608-48cf-b19f-4a90febf733c",
   "metadata": {
    "scrolled": true
   },
   "outputs": [
    {
     "data": {
      "image/png": "[encoded data removed]",
      "text/plain": [
       "<Figure size 800x500 with 1 Axes>"
      ]
     },
     "metadata": {},
     "output_type": "display_data"
    }
   ],
   "source": [
    "value_count = df.is_positive.value_counts()\n",
    "plt.figure(figsize=(8, 5))\n",
    "value_count.plot(kind='bar', color=['red', 'blue'])\n",
    "plt.title('Distribution of Positive and Negative Reviews')\n",
    "plt.xlabel('Review Sentiment')\n",
    "plt.ylabel('Count')\n",
    "plt.xticks(rotation=0)\n",
    "plt.grid(axis='y', linestyle='--', alpha=0.7)\n",
    "plt.show()"
   ]
  },
  {
   "cell_type": "markdown",
   "id": "92b6565b-be8d-4818-ac6e-69c0ef57a7a3",
   "metadata": {},
   "source": [
    "### Le nombre d'avis pour chaque jeu"
   ]
  },
  {
   "cell_type": "code",
   "execution_count": 9,
   "id": "62d8ad00-b6df-4413-82d8-b8527516eedd",
   "metadata": {},
   "outputs": [
    {
     "name": "stdout",
     "output_type": "stream",
     "text": [
      "Le nombre d'avis pour chaque jeux\n"
     ]
    }
   ],
   "source": [
    "print(\"Le nombre d'avis pour chaque jeux\")\n",
    "# df.app_id.value_counts()"
   ]
  },
  {
   "cell_type": "markdown",
   "id": "4a2d0ce5-6a20-4683-a95d-8292d89c1fd7",
   "metadata": {},
   "source": [
    "### Le nombre d'avis positif et négatif pour chaque jeu"
   ]
  },
  {
   "cell_type": "code",
   "execution_count": 10,
   "id": "325413fb-117d-4b4d-a0a7-c0bf7a9822d3",
   "metadata": {},
   "outputs": [
    {
     "data": {
      "text/html": [
       "<div>\n",
       "<style scoped>\n",
       "    .dataframe tbody tr th:only-of-type {\n",
       "        vertical-align: middle;\n",
       "    }\n",
       "\n",
       "    .dataframe tbody tr th {\n",
       "        vertical-align: top;\n",
       "    }\n",
       "\n",
       "    .dataframe thead th {\n",
       "        text-align: right;\n",
       "    }\n",
       "</style>\n",
       "<table border=\"1\" class=\"dataframe\">\n",
       "  <thead>\n",
       "    <tr style=\"text-align: right;\">\n",
       "      <th>is_positive</th>\n",
       "      <th>Negative</th>\n",
       "      <th>Positive</th>\n",
       "    </tr>\n",
       "    <tr>\n",
       "      <th>app_id</th>\n",
       "      <th></th>\n",
       "      <th></th>\n",
       "    </tr>\n",
       "  </thead>\n",
       "  <tbody>\n",
       "    <tr>\n",
       "      <th>10</th>\n",
       "      <td>1555</td>\n",
       "      <td>9900</td>\n",
       "    </tr>\n",
       "    <tr>\n",
       "      <th>20</th>\n",
       "      <td>669</td>\n",
       "      <td>4665</td>\n",
       "    </tr>\n",
       "    <tr>\n",
       "      <th>30</th>\n",
       "      <td>304</td>\n",
       "      <td>3031</td>\n",
       "    </tr>\n",
       "    <tr>\n",
       "      <th>40</th>\n",
       "      <td>269</td>\n",
       "      <td>1385</td>\n",
       "    </tr>\n",
       "    <tr>\n",
       "      <th>50</th>\n",
       "      <td>624</td>\n",
       "      <td>0</td>\n",
       "    </tr>\n",
       "  </tbody>\n",
       "</table>\n",
       "</div>"
      ],
      "text/plain": [
       "is_positive  Negative  Positive\n",
       "app_id                         \n",
       "10               1555      9900\n",
       "20                669      4665\n",
       "30                304      3031\n",
       "40                269      1385\n",
       "50                624         0"
      ]
     },
     "execution_count": 10,
     "metadata": {},
     "output_type": "execute_result"
    }
   ],
   "source": [
    "Nb_pos_neg = df.groupby([\"app_id\", \"is_positive\"]).size().unstack(fill_value=0)\n",
    "Nb_pos_neg.head()"
   ]
  },
  {
   "cell_type": "markdown",
   "id": "e954733a-d888-4428-a88c-bc9cf8c47322",
   "metadata": {},
   "source": [
    "### Top 5 des jeux avec le plus d'avis positifs"
   ]
  },
  {
   "cell_type": "code",
   "execution_count": 11,
   "id": "42a489aa-fe82-4e83-bf90-d60e5e66cd3a",
   "metadata": {},
   "outputs": [
    {
     "data": {
      "text/html": [
       "<div>\n",
       "<style scoped>\n",
       "    .dataframe tbody tr th:only-of-type {\n",
       "        vertical-align: middle;\n",
       "    }\n",
       "\n",
       "    .dataframe tbody tr th {\n",
       "        vertical-align: top;\n",
       "    }\n",
       "\n",
       "    .dataframe thead th {\n",
       "        text-align: right;\n",
       "    }\n",
       "</style>\n",
       "<table border=\"1\" class=\"dataframe\">\n",
       "  <thead>\n",
       "    <tr style=\"text-align: right;\">\n",
       "      <th>is_positive</th>\n",
       "      <th>Negative</th>\n",
       "      <th>Positive</th>\n",
       "    </tr>\n",
       "    <tr>\n",
       "      <th>app_id</th>\n",
       "      <th></th>\n",
       "      <th></th>\n",
       "    </tr>\n",
       "  </thead>\n",
       "  <tbody>\n",
       "    <tr>\n",
       "      <th>240</th>\n",
       "      <td>2409</td>\n",
       "      <td>10000</td>\n",
       "    </tr>\n",
       "    <tr>\n",
       "      <th>10</th>\n",
       "      <td>1555</td>\n",
       "      <td>9900</td>\n",
       "    </tr>\n",
       "    <tr>\n",
       "      <th>630</th>\n",
       "      <td>535</td>\n",
       "      <td>9517</td>\n",
       "    </tr>\n",
       "    <tr>\n",
       "      <th>130</th>\n",
       "      <td>775</td>\n",
       "      <td>9053</td>\n",
       "    </tr>\n",
       "    <tr>\n",
       "      <th>620</th>\n",
       "      <td>2226</td>\n",
       "      <td>8901</td>\n",
       "    </tr>\n",
       "  </tbody>\n",
       "</table>\n",
       "</div>"
      ],
      "text/plain": [
       "is_positive  Negative  Positive\n",
       "app_id                         \n",
       "240              2409     10000\n",
       "10               1555      9900\n",
       "630               535      9517\n",
       "130               775      9053\n",
       "620              2226      8901"
      ]
     },
     "execution_count": 11,
     "metadata": {},
     "output_type": "execute_result"
    }
   ],
   "source": [
    "Nb_pos_neg.sort_values(by=\"Positive\", ascending = False).head(5)"
   ]
  },
  {
   "cell_type": "markdown",
   "id": "52d55fcc-1eda-4792-b1fc-5d34fefbcc6b",
   "metadata": {},
   "source": [
    "### Top 5 des jeux avec le plus d'avis négatifs"
   ]
  },
  {
   "cell_type": "code",
   "execution_count": 12,
   "id": "b2561269-e272-40d2-a519-02bd52fb6880",
   "metadata": {
    "scrolled": true
   },
   "outputs": [
    {
     "data": {
      "text/html": [
       "<div>\n",
       "<style scoped>\n",
       "    .dataframe tbody tr th:only-of-type {\n",
       "        vertical-align: middle;\n",
       "    }\n",
       "\n",
       "    .dataframe tbody tr th {\n",
       "        vertical-align: top;\n",
       "    }\n",
       "\n",
       "    .dataframe thead th {\n",
       "        text-align: right;\n",
       "    }\n",
       "</style>\n",
       "<table border=\"1\" class=\"dataframe\">\n",
       "  <thead>\n",
       "    <tr style=\"text-align: right;\">\n",
       "      <th>is_positive</th>\n",
       "      <th>Negative</th>\n",
       "      <th>Positive</th>\n",
       "    </tr>\n",
       "    <tr>\n",
       "      <th>app_id</th>\n",
       "      <th></th>\n",
       "      <th></th>\n",
       "    </tr>\n",
       "  </thead>\n",
       "  <tbody>\n",
       "    <tr>\n",
       "      <th>730</th>\n",
       "      <td>20002</td>\n",
       "      <td>4800</td>\n",
       "    </tr>\n",
       "    <tr>\n",
       "      <th>570</th>\n",
       "      <td>20001</td>\n",
       "      <td>0</td>\n",
       "    </tr>\n",
       "    <tr>\n",
       "      <th>440</th>\n",
       "      <td>20000</td>\n",
       "      <td>0</td>\n",
       "    </tr>\n",
       "    <tr>\n",
       "      <th>550</th>\n",
       "      <td>7321</td>\n",
       "      <td>8000</td>\n",
       "    </tr>\n",
       "    <tr>\n",
       "      <th>280</th>\n",
       "      <td>2927</td>\n",
       "      <td>5678</td>\n",
       "    </tr>\n",
       "  </tbody>\n",
       "</table>\n",
       "</div>"
      ],
      "text/plain": [
       "is_positive  Negative  Positive\n",
       "app_id                         \n",
       "730             20002      4800\n",
       "570             20001         0\n",
       "440             20000         0\n",
       "550              7321      8000\n",
       "280              2927      5678"
      ]
     },
     "execution_count": 12,
     "metadata": {},
     "output_type": "execute_result"
    }
   ],
   "source": [
    "Nb_pos_neg.sort_values(by=\"Negative\", ascending = False).head(5)"
   ]
  },
  {
   "cell_type": "markdown",
   "id": "9d5dfc39-be79-4905-947a-2eaf9ca1dd01",
   "metadata": {},
   "source": [
    "### Ratio des avis pour chaque jeu"
   ]
  },
  {
   "cell_type": "code",
   "execution_count": 13,
   "id": "02b3d8c9-e6f1-4e2f-97aa-3d65493bf93b",
   "metadata": {},
   "outputs": [
    {
     "data": {
      "text/html": [
       "<div>\n",
       "<style scoped>\n",
       "    .dataframe tbody tr th:only-of-type {\n",
       "        vertical-align: middle;\n",
       "    }\n",
       "\n",
       "    .dataframe tbody tr th {\n",
       "        vertical-align: top;\n",
       "    }\n",
       "\n",
       "    .dataframe thead th {\n",
       "        text-align: right;\n",
       "    }\n",
       "</style>\n",
       "<table border=\"1\" class=\"dataframe\">\n",
       "  <thead>\n",
       "    <tr style=\"text-align: right;\">\n",
       "      <th>is_positive</th>\n",
       "      <th>Negative</th>\n",
       "      <th>Positive</th>\n",
       "      <th>Nb_total</th>\n",
       "      <th>Ratio positif</th>\n",
       "      <th>Ratio negatif</th>\n",
       "    </tr>\n",
       "    <tr>\n",
       "      <th>app_id</th>\n",
       "      <th></th>\n",
       "      <th></th>\n",
       "      <th></th>\n",
       "      <th></th>\n",
       "      <th></th>\n",
       "    </tr>\n",
       "  </thead>\n",
       "  <tbody>\n",
       "    <tr>\n",
       "      <th>630</th>\n",
       "      <td>535</td>\n",
       "      <td>9517</td>\n",
       "      <td>10052</td>\n",
       "      <td>94.677676</td>\n",
       "      <td>5.322324</td>\n",
       "    </tr>\n",
       "    <tr>\n",
       "      <th>100</th>\n",
       "      <td>122</td>\n",
       "      <td>1429</td>\n",
       "      <td>1551</td>\n",
       "      <td>92.134107</td>\n",
       "      <td>7.865893</td>\n",
       "    </tr>\n",
       "    <tr>\n",
       "      <th>130</th>\n",
       "      <td>775</td>\n",
       "      <td>9053</td>\n",
       "      <td>9828</td>\n",
       "      <td>92.114367</td>\n",
       "      <td>7.885633</td>\n",
       "    </tr>\n",
       "    <tr>\n",
       "      <th>30</th>\n",
       "      <td>304</td>\n",
       "      <td>3031</td>\n",
       "      <td>3335</td>\n",
       "      <td>90.884558</td>\n",
       "      <td>9.115442</td>\n",
       "    </tr>\n",
       "    <tr>\n",
       "      <th>320</th>\n",
       "      <td>595</td>\n",
       "      <td>5789</td>\n",
       "      <td>6384</td>\n",
       "      <td>90.679825</td>\n",
       "      <td>9.320175</td>\n",
       "    </tr>\n",
       "    <tr>\n",
       "      <th>340</th>\n",
       "      <td>730</td>\n",
       "      <td>6296</td>\n",
       "      <td>7026</td>\n",
       "      <td>89.610020</td>\n",
       "      <td>10.389980</td>\n",
       "    </tr>\n",
       "    <tr>\n",
       "      <th>300</th>\n",
       "      <td>818</td>\n",
       "      <td>7000</td>\n",
       "      <td>7818</td>\n",
       "      <td>89.536966</td>\n",
       "      <td>10.463034</td>\n",
       "    </tr>\n",
       "    <tr>\n",
       "      <th>20</th>\n",
       "      <td>669</td>\n",
       "      <td>4665</td>\n",
       "      <td>5334</td>\n",
       "      <td>87.457818</td>\n",
       "      <td>12.542182</td>\n",
       "    </tr>\n",
       "    <tr>\n",
       "      <th>1230</th>\n",
       "      <td>13</td>\n",
       "      <td>87</td>\n",
       "      <td>100</td>\n",
       "      <td>87.000000</td>\n",
       "      <td>13.000000</td>\n",
       "    </tr>\n",
       "    <tr>\n",
       "      <th>10</th>\n",
       "      <td>1555</td>\n",
       "      <td>9900</td>\n",
       "      <td>11455</td>\n",
       "      <td>86.425142</td>\n",
       "      <td>13.574858</td>\n",
       "    </tr>\n",
       "    <tr>\n",
       "      <th>40</th>\n",
       "      <td>269</td>\n",
       "      <td>1385</td>\n",
       "      <td>1654</td>\n",
       "      <td>83.736397</td>\n",
       "      <td>16.263603</td>\n",
       "    </tr>\n",
       "    <tr>\n",
       "      <th>1257</th>\n",
       "      <td>9</td>\n",
       "      <td>40</td>\n",
       "      <td>49</td>\n",
       "      <td>81.632653</td>\n",
       "      <td>18.367347</td>\n",
       "    </tr>\n",
       "    <tr>\n",
       "      <th>240</th>\n",
       "      <td>2409</td>\n",
       "      <td>10000</td>\n",
       "      <td>12409</td>\n",
       "      <td>80.586671</td>\n",
       "      <td>19.413329</td>\n",
       "    </tr>\n",
       "    <tr>\n",
       "      <th>620</th>\n",
       "      <td>2226</td>\n",
       "      <td>8901</td>\n",
       "      <td>11127</td>\n",
       "      <td>79.994608</td>\n",
       "      <td>20.005392</td>\n",
       "    </tr>\n",
       "    <tr>\n",
       "      <th>1256</th>\n",
       "      <td>10</td>\n",
       "      <td>38</td>\n",
       "      <td>48</td>\n",
       "      <td>79.166667</td>\n",
       "      <td>20.833333</td>\n",
       "    </tr>\n",
       "    <tr>\n",
       "      <th>380</th>\n",
       "      <td>728</td>\n",
       "      <td>2300</td>\n",
       "      <td>3028</td>\n",
       "      <td>75.957728</td>\n",
       "      <td>24.042272</td>\n",
       "    </tr>\n",
       "    <tr>\n",
       "      <th>360</th>\n",
       "      <td>518</td>\n",
       "      <td>1589</td>\n",
       "      <td>2107</td>\n",
       "      <td>75.415282</td>\n",
       "      <td>24.584718</td>\n",
       "    </tr>\n",
       "    <tr>\n",
       "      <th>1002</th>\n",
       "      <td>23</td>\n",
       "      <td>70</td>\n",
       "      <td>93</td>\n",
       "      <td>75.268817</td>\n",
       "      <td>24.731183</td>\n",
       "    </tr>\n",
       "    <tr>\n",
       "      <th>1610</th>\n",
       "      <td>30</td>\n",
       "      <td>88</td>\n",
       "      <td>118</td>\n",
       "      <td>74.576271</td>\n",
       "      <td>25.423729</td>\n",
       "    </tr>\n",
       "    <tr>\n",
       "      <th>280</th>\n",
       "      <td>2927</td>\n",
       "      <td>5678</td>\n",
       "      <td>8605</td>\n",
       "      <td>65.984893</td>\n",
       "      <td>34.015107</td>\n",
       "    </tr>\n",
       "    <tr>\n",
       "      <th>1600</th>\n",
       "      <td>58</td>\n",
       "      <td>81</td>\n",
       "      <td>139</td>\n",
       "      <td>58.273381</td>\n",
       "      <td>41.726619</td>\n",
       "    </tr>\n",
       "    <tr>\n",
       "      <th>1630</th>\n",
       "      <td>70</td>\n",
       "      <td>91</td>\n",
       "      <td>161</td>\n",
       "      <td>56.521739</td>\n",
       "      <td>43.478261</td>\n",
       "    </tr>\n",
       "    <tr>\n",
       "      <th>1313</th>\n",
       "      <td>55</td>\n",
       "      <td>70</td>\n",
       "      <td>125</td>\n",
       "      <td>56.000000</td>\n",
       "      <td>44.000000</td>\n",
       "    </tr>\n",
       "    <tr>\n",
       "      <th>1530</th>\n",
       "      <td>67</td>\n",
       "      <td>81</td>\n",
       "      <td>148</td>\n",
       "      <td>54.729730</td>\n",
       "      <td>45.270270</td>\n",
       "    </tr>\n",
       "    <tr>\n",
       "      <th>1300</th>\n",
       "      <td>74</td>\n",
       "      <td>87</td>\n",
       "      <td>161</td>\n",
       "      <td>54.037267</td>\n",
       "      <td>45.962733</td>\n",
       "    </tr>\n",
       "    <tr>\n",
       "      <th>550</th>\n",
       "      <td>7321</td>\n",
       "      <td>8000</td>\n",
       "      <td>15321</td>\n",
       "      <td>52.215913</td>\n",
       "      <td>47.784087</td>\n",
       "    </tr>\n",
       "    <tr>\n",
       "      <th>400</th>\n",
       "      <td>1167</td>\n",
       "      <td>1200</td>\n",
       "      <td>2367</td>\n",
       "      <td>50.697085</td>\n",
       "      <td>49.302915</td>\n",
       "    </tr>\n",
       "    <tr>\n",
       "      <th>1670</th>\n",
       "      <td>59</td>\n",
       "      <td>58</td>\n",
       "      <td>117</td>\n",
       "      <td>49.572650</td>\n",
       "      <td>50.427350</td>\n",
       "    </tr>\n",
       "    <tr>\n",
       "      <th>1690</th>\n",
       "      <td>106</td>\n",
       "      <td>72</td>\n",
       "      <td>178</td>\n",
       "      <td>40.449438</td>\n",
       "      <td>59.550562</td>\n",
       "    </tr>\n",
       "    <tr>\n",
       "      <th>1280</th>\n",
       "      <td>145</td>\n",
       "      <td>92</td>\n",
       "      <td>237</td>\n",
       "      <td>38.818565</td>\n",
       "      <td>61.181435</td>\n",
       "    </tr>\n",
       "    <tr>\n",
       "      <th>1640</th>\n",
       "      <td>131</td>\n",
       "      <td>83</td>\n",
       "      <td>214</td>\n",
       "      <td>38.785047</td>\n",
       "      <td>61.214953</td>\n",
       "    </tr>\n",
       "    <tr>\n",
       "      <th>420</th>\n",
       "      <td>655</td>\n",
       "      <td>400</td>\n",
       "      <td>1055</td>\n",
       "      <td>37.914692</td>\n",
       "      <td>62.085308</td>\n",
       "    </tr>\n",
       "    <tr>\n",
       "      <th>1200</th>\n",
       "      <td>153</td>\n",
       "      <td>87</td>\n",
       "      <td>240</td>\n",
       "      <td>36.250000</td>\n",
       "      <td>63.750000</td>\n",
       "    </tr>\n",
       "    <tr>\n",
       "      <th>1510</th>\n",
       "      <td>161</td>\n",
       "      <td>88</td>\n",
       "      <td>249</td>\n",
       "      <td>35.341365</td>\n",
       "      <td>64.658635</td>\n",
       "    </tr>\n",
       "    <tr>\n",
       "      <th>1700</th>\n",
       "      <td>165</td>\n",
       "      <td>90</td>\n",
       "      <td>255</td>\n",
       "      <td>35.294118</td>\n",
       "      <td>64.705882</td>\n",
       "    </tr>\n",
       "    <tr>\n",
       "      <th>1900</th>\n",
       "      <td>206</td>\n",
       "      <td>67</td>\n",
       "      <td>273</td>\n",
       "      <td>24.542125</td>\n",
       "      <td>75.457875</td>\n",
       "    </tr>\n",
       "    <tr>\n",
       "      <th>1520</th>\n",
       "      <td>379</td>\n",
       "      <td>93</td>\n",
       "      <td>472</td>\n",
       "      <td>19.703390</td>\n",
       "      <td>80.296610</td>\n",
       "    </tr>\n",
       "    <tr>\n",
       "      <th>730</th>\n",
       "      <td>20002</td>\n",
       "      <td>4800</td>\n",
       "      <td>24802</td>\n",
       "      <td>19.353278</td>\n",
       "      <td>80.646722</td>\n",
       "    </tr>\n",
       "    <tr>\n",
       "      <th>1930</th>\n",
       "      <td>605</td>\n",
       "      <td>83</td>\n",
       "      <td>688</td>\n",
       "      <td>12.063953</td>\n",
       "      <td>87.936047</td>\n",
       "    </tr>\n",
       "    <tr>\n",
       "      <th>1250</th>\n",
       "      <td>1597</td>\n",
       "      <td>90</td>\n",
       "      <td>1687</td>\n",
       "      <td>5.334914</td>\n",
       "      <td>94.665086</td>\n",
       "    </tr>\n",
       "    <tr>\n",
       "      <th>1840</th>\n",
       "      <td>1941</td>\n",
       "      <td>91</td>\n",
       "      <td>2032</td>\n",
       "      <td>4.478346</td>\n",
       "      <td>95.521654</td>\n",
       "    </tr>\n",
       "    <tr>\n",
       "      <th>1500</th>\n",
       "      <td>137</td>\n",
       "      <td>0</td>\n",
       "      <td>137</td>\n",
       "      <td>0.000000</td>\n",
       "      <td>100.000000</td>\n",
       "    </tr>\n",
       "    <tr>\n",
       "      <th>50</th>\n",
       "      <td>624</td>\n",
       "      <td>0</td>\n",
       "      <td>624</td>\n",
       "      <td>0.000000</td>\n",
       "      <td>100.000000</td>\n",
       "    </tr>\n",
       "    <tr>\n",
       "      <th>570</th>\n",
       "      <td>20001</td>\n",
       "      <td>0</td>\n",
       "      <td>20001</td>\n",
       "      <td>0.000000</td>\n",
       "      <td>100.000000</td>\n",
       "    </tr>\n",
       "    <tr>\n",
       "      <th>500</th>\n",
       "      <td>963</td>\n",
       "      <td>0</td>\n",
       "      <td>963</td>\n",
       "      <td>0.000000</td>\n",
       "      <td>100.000000</td>\n",
       "    </tr>\n",
       "    <tr>\n",
       "      <th>440</th>\n",
       "      <td>20000</td>\n",
       "      <td>0</td>\n",
       "      <td>20000</td>\n",
       "      <td>0.000000</td>\n",
       "      <td>100.000000</td>\n",
       "    </tr>\n",
       "    <tr>\n",
       "      <th>60</th>\n",
       "      <td>519</td>\n",
       "      <td>0</td>\n",
       "      <td>519</td>\n",
       "      <td>0.000000</td>\n",
       "      <td>100.000000</td>\n",
       "    </tr>\n",
       "    <tr>\n",
       "      <th>70</th>\n",
       "      <td>2394</td>\n",
       "      <td>0</td>\n",
       "      <td>2394</td>\n",
       "      <td>0.000000</td>\n",
       "      <td>100.000000</td>\n",
       "    </tr>\n",
       "    <tr>\n",
       "      <th>80</th>\n",
       "      <td>712</td>\n",
       "      <td>0</td>\n",
       "      <td>712</td>\n",
       "      <td>0.000000</td>\n",
       "      <td>100.000000</td>\n",
       "    </tr>\n",
       "    <tr>\n",
       "      <th>220</th>\n",
       "      <td>2759</td>\n",
       "      <td>0</td>\n",
       "      <td>2759</td>\n",
       "      <td>0.000000</td>\n",
       "      <td>100.000000</td>\n",
       "    </tr>\n",
       "  </tbody>\n",
       "</table>\n",
       "</div>"
      ],
      "text/plain": [
       "is_positive  Negative  Positive  Nb_total  Ratio positif  Ratio negatif\n",
       "app_id                                                                 \n",
       "630               535      9517     10052      94.677676       5.322324\n",
       "100               122      1429      1551      92.134107       7.865893\n",
       "130               775      9053      9828      92.114367       7.885633\n",
       "30                304      3031      3335      90.884558       9.115442\n",
       "320               595      5789      6384      90.679825       9.320175\n",
       "340               730      6296      7026      89.610020      10.389980\n",
       "300               818      7000      7818      89.536966      10.463034\n",
       "20                669      4665      5334      87.457818      12.542182\n",
       "1230               13        87       100      87.000000      13.000000\n",
       "10               1555      9900     11455      86.425142      13.574858\n",
       "40                269      1385      1654      83.736397      16.263603\n",
       "1257                9        40        49      81.632653      18.367347\n",
       "240              2409     10000     12409      80.586671      19.413329\n",
       "620              2226      8901     11127      79.994608      20.005392\n",
       "1256               10        38        48      79.166667      20.833333\n",
       "380               728      2300      3028      75.957728      24.042272\n",
       "360               518      1589      2107      75.415282      24.584718\n",
       "1002               23        70        93      75.268817      24.731183\n",
       "1610               30        88       118      74.576271      25.423729\n",
       "280              2927      5678      8605      65.984893      34.015107\n",
       "1600               58        81       139      58.273381      41.726619\n",
       "1630               70        91       161      56.521739      43.478261\n",
       "1313               55        70       125      56.000000      44.000000\n",
       "1530               67        81       148      54.729730      45.270270\n",
       "1300               74        87       161      54.037267      45.962733\n",
       "550              7321      8000     15321      52.215913      47.784087\n",
       "400              1167      1200      2367      50.697085      49.302915\n",
       "1670               59        58       117      49.572650      50.427350\n",
       "1690              106        72       178      40.449438      59.550562\n",
       "1280              145        92       237      38.818565      61.181435\n",
       "1640              131        83       214      38.785047      61.214953\n",
       "420               655       400      1055      37.914692      62.085308\n",
       "1200              153        87       240      36.250000      63.750000\n",
       "1510              161        88       249      35.341365      64.658635\n",
       "1700              165        90       255      35.294118      64.705882\n",
       "1900              206        67       273      24.542125      75.457875\n",
       "1520              379        93       472      19.703390      80.296610\n",
       "730             20002      4800     24802      19.353278      80.646722\n",
       "1930              605        83       688      12.063953      87.936047\n",
       "1250             1597        90      1687       5.334914      94.665086\n",
       "1840             1941        91      2032       4.478346      95.521654\n",
       "1500              137         0       137       0.000000     100.000000\n",
       "50                624         0       624       0.000000     100.000000\n",
       "570             20001         0     20001       0.000000     100.000000\n",
       "500               963         0       963       0.000000     100.000000\n",
       "440             20000         0     20000       0.000000     100.000000\n",
       "60                519         0       519       0.000000     100.000000\n",
       "70               2394         0      2394       0.000000     100.000000\n",
       "80                712         0       712       0.000000     100.000000\n",
       "220              2759         0      2759       0.000000     100.000000"
      ]
     },
     "execution_count": 13,
     "metadata": {},
     "output_type": "execute_result"
    }
   ],
   "source": [
    "Nb_pos_neg = df.groupby([\"app_id\", \"is_positive\"]).size().unstack(fill_value=0)\n",
    "Nb_pos_neg['Nb_total'] = Nb_pos_neg.sum(axis=1)\n",
    "Nb_pos_neg['Ratio positif'] = (Nb_pos_neg['Positive'] / Nb_pos_neg['Nb_total']) * 100\n",
    "Nb_pos_neg['Ratio negatif'] = (Nb_pos_neg['Negative'] / Nb_pos_neg['Nb_total']) * 100\n",
    "sorted_Nb_pos_neg = Nb_pos_neg.sort_values(by=\"Ratio positif\", ascending = False)\n",
    "sorted_Nb_pos_neg"
   ]
  },
  {
   "cell_type": "markdown",
   "id": "a3834498-dd00-4506-a390-01012286432d",
   "metadata": {},
   "source": [
    "### Visualisation des ratio"
   ]
  },
  {
   "cell_type": "code",
   "execution_count": 14,
   "id": "610b5b0e-2660-4c94-b0cf-ebdb926fe173",
   "metadata": {},
   "outputs": [
    {
     "data": {
      "image/png": "[encoded data removed]",
      "text/plain": [
       "<Figure size 1000x1500 with 1 Axes>"
      ]
     },
     "metadata": {},
     "output_type": "display_data"
    }
   ],
   "source": [
    "sorted_Nb_pos_neg[['Ratio positif', 'Ratio negatif']].plot(kind='bar', stacked=True, figsize=(10, 15), color=['blue', 'red'])\n",
    "plt.title('Ratios positifs et négatifs par jeu')\n",
    "plt.xlabel('Pourcentage')\n",
    "plt.ylabel('App ID')\n",
    "plt.legend(title='Sentiment')\n",
    "plt.grid(axis='x', linestyle='--', alpha=0.7)\n",
    "plt.show()"
   ]
  },
  {
   "cell_type": "markdown",
   "id": "c236d381-fa9d-4aa6-8799-287ab231814e",
   "metadata": {},
   "source": [
    "### Top 10 utilisateurs qui écrivent le plus d'avis"
   ]
  },
  {
   "cell_type": "code",
   "execution_count": 15,
   "id": "d654f715-6d47-4dd0-a595-263ef08ecee0",
   "metadata": {},
   "outputs": [
    {
     "data": {
      "text/plain": [
       "author_id\n",
       "76561198027267313    21\n",
       "76561198101732759    19\n",
       "76561198157722947    18\n",
       "76561197968536252    18\n",
       "76561198005985435    18\n",
       "76561198204507685    17\n",
       "76561198989761658    17\n",
       "76561197970705552    17\n",
       "76561197987756292    16\n",
       "76561197972996364    16\n",
       "Name: count, dtype: int64"
      ]
     },
     "execution_count": 15,
     "metadata": {},
     "output_type": "execute_result"
    }
   ],
   "source": [
    "df[\"author_id\"].value_counts().head(10)"
   ]
  },
  {
   "cell_type": "markdown",
   "id": "283f4526-d12e-4d48-847b-571fbe709684",
   "metadata": {},
   "source": [
    "### Nombre d'avis positive et négatif par personne "
   ]
  },
  {
   "cell_type": "code",
   "execution_count": 16,
   "id": "fe5dc78b-5309-4be1-bcd4-3924b5c1c586",
   "metadata": {
    "scrolled": true
   },
   "outputs": [
    {
     "data": {
      "text/html": [
       "<div>\n",
       "<style scoped>\n",
       "    .dataframe tbody tr th:only-of-type {\n",
       "        vertical-align: middle;\n",
       "    }\n",
       "\n",
       "    .dataframe tbody tr th {\n",
       "        vertical-align: top;\n",
       "    }\n",
       "\n",
       "    .dataframe thead th {\n",
       "        text-align: right;\n",
       "    }\n",
       "</style>\n",
       "<table border=\"1\" class=\"dataframe\">\n",
       "  <thead>\n",
       "    <tr style=\"text-align: right;\">\n",
       "      <th>is_positive</th>\n",
       "      <th>Negative</th>\n",
       "      <th>Positive</th>\n",
       "    </tr>\n",
       "    <tr>\n",
       "      <th>author_id</th>\n",
       "      <th></th>\n",
       "      <th></th>\n",
       "    </tr>\n",
       "  </thead>\n",
       "  <tbody>\n",
       "    <tr>\n",
       "      <th>76561197960265733</th>\n",
       "      <td>0</td>\n",
       "      <td>1</td>\n",
       "    </tr>\n",
       "    <tr>\n",
       "      <th>76561197960265858</th>\n",
       "      <td>0</td>\n",
       "      <td>1</td>\n",
       "    </tr>\n",
       "    <tr>\n",
       "      <th>76561197960266039</th>\n",
       "      <td>0</td>\n",
       "      <td>1</td>\n",
       "    </tr>\n",
       "    <tr>\n",
       "      <th>76561197960267097</th>\n",
       "      <td>0</td>\n",
       "      <td>1</td>\n",
       "    </tr>\n",
       "    <tr>\n",
       "      <th>76561197960267615</th>\n",
       "      <td>0</td>\n",
       "      <td>3</td>\n",
       "    </tr>\n",
       "    <tr>\n",
       "      <th>...</th>\n",
       "      <td>...</td>\n",
       "      <td>...</td>\n",
       "    </tr>\n",
       "    <tr>\n",
       "      <th>76561199806944648</th>\n",
       "      <td>1</td>\n",
       "      <td>0</td>\n",
       "    </tr>\n",
       "    <tr>\n",
       "      <th>76561199807087995</th>\n",
       "      <td>0</td>\n",
       "      <td>1</td>\n",
       "    </tr>\n",
       "    <tr>\n",
       "      <th>76561199807242013</th>\n",
       "      <td>0</td>\n",
       "      <td>1</td>\n",
       "    </tr>\n",
       "    <tr>\n",
       "      <th>76561199807259108</th>\n",
       "      <td>0</td>\n",
       "      <td>1</td>\n",
       "    </tr>\n",
       "    <tr>\n",
       "      <th>76561199807385184</th>\n",
       "      <td>1</td>\n",
       "      <td>0</td>\n",
       "    </tr>\n",
       "  </tbody>\n",
       "</table>\n",
       "<p>173886 rows × 2 columns</p>\n",
       "</div>"
      ],
      "text/plain": [
       "is_positive        Negative  Positive\n",
       "author_id                            \n",
       "76561197960265733         0         1\n",
       "76561197960265858         0         1\n",
       "76561197960266039         0         1\n",
       "76561197960267097         0         1\n",
       "76561197960267615         0         3\n",
       "...                     ...       ...\n",
       "76561199806944648         1         0\n",
       "76561199807087995         0         1\n",
       "76561199807242013         0         1\n",
       "76561199807259108         0         1\n",
       "76561199807385184         1         0\n",
       "\n",
       "[173886 rows x 2 columns]"
      ]
     },
     "execution_count": 16,
     "metadata": {},
     "output_type": "execute_result"
    }
   ],
   "source": [
    "avis_user = df.groupby([\"author_id\",\"is_positive\"]).size().unstack(fill_value = 0)\n",
    "avis_user"
   ]
  },
  {
   "cell_type": "markdown",
   "id": "fe579925-d949-4ac3-aa45-3e52af40c165",
   "metadata": {},
   "source": [
    "### Top 5 personnes avec le plus d'avis positifs"
   ]
  },
  {
   "cell_type": "code",
   "execution_count": 17,
   "id": "2a782530-81ec-43c7-ab19-10eccc6158bf",
   "metadata": {},
   "outputs": [
    {
     "data": {
      "text/html": [
       "<div>\n",
       "<style scoped>\n",
       "    .dataframe tbody tr th:only-of-type {\n",
       "        vertical-align: middle;\n",
       "    }\n",
       "\n",
       "    .dataframe tbody tr th {\n",
       "        vertical-align: top;\n",
       "    }\n",
       "\n",
       "    .dataframe thead th {\n",
       "        text-align: right;\n",
       "    }\n",
       "</style>\n",
       "<table border=\"1\" class=\"dataframe\">\n",
       "  <thead>\n",
       "    <tr style=\"text-align: right;\">\n",
       "      <th>is_positive</th>\n",
       "      <th>Negative</th>\n",
       "      <th>Positive</th>\n",
       "    </tr>\n",
       "    <tr>\n",
       "      <th>author_id</th>\n",
       "      <th></th>\n",
       "      <th></th>\n",
       "    </tr>\n",
       "  </thead>\n",
       "  <tbody>\n",
       "    <tr>\n",
       "      <th>76561197968536252</th>\n",
       "      <td>1</td>\n",
       "      <td>17</td>\n",
       "    </tr>\n",
       "    <tr>\n",
       "      <th>76561198165700155</th>\n",
       "      <td>0</td>\n",
       "      <td>14</td>\n",
       "    </tr>\n",
       "    <tr>\n",
       "      <th>76561198040728689</th>\n",
       "      <td>0</td>\n",
       "      <td>14</td>\n",
       "    </tr>\n",
       "    <tr>\n",
       "      <th>76561198410682310</th>\n",
       "      <td>2</td>\n",
       "      <td>14</td>\n",
       "    </tr>\n",
       "    <tr>\n",
       "      <th>76561199487511051</th>\n",
       "      <td>0</td>\n",
       "      <td>14</td>\n",
       "    </tr>\n",
       "  </tbody>\n",
       "</table>\n",
       "</div>"
      ],
      "text/plain": [
       "is_positive        Negative  Positive\n",
       "author_id                            \n",
       "76561197968536252         1        17\n",
       "76561198165700155         0        14\n",
       "76561198040728689         0        14\n",
       "76561198410682310         2        14\n",
       "76561199487511051         0        14"
      ]
     },
     "execution_count": 17,
     "metadata": {},
     "output_type": "execute_result"
    }
   ],
   "source": [
    "avis_user.sort_values(by=\"Positive\",ascending = False).head(5)"
   ]
  },
  {
   "cell_type": "markdown",
   "id": "4bbab7a3-ff7e-4455-a12a-8a60680463b5",
   "metadata": {},
   "source": [
    "### Top 5 personnes avec le plus d'avis négatifs"
   ]
  },
  {
   "cell_type": "code",
   "execution_count": 18,
   "id": "3547fb5d-febe-4039-8276-ac0c79f6bb01",
   "metadata": {
    "scrolled": true
   },
   "outputs": [
    {
     "data": {
      "text/html": [
       "<div>\n",
       "<style scoped>\n",
       "    .dataframe tbody tr th:only-of-type {\n",
       "        vertical-align: middle;\n",
       "    }\n",
       "\n",
       "    .dataframe tbody tr th {\n",
       "        vertical-align: top;\n",
       "    }\n",
       "\n",
       "    .dataframe thead th {\n",
       "        text-align: right;\n",
       "    }\n",
       "</style>\n",
       "<table border=\"1\" class=\"dataframe\">\n",
       "  <thead>\n",
       "    <tr style=\"text-align: right;\">\n",
       "      <th>is_positive</th>\n",
       "      <th>Negative</th>\n",
       "      <th>Positive</th>\n",
       "    </tr>\n",
       "    <tr>\n",
       "      <th>author_id</th>\n",
       "      <th></th>\n",
       "      <th></th>\n",
       "    </tr>\n",
       "  </thead>\n",
       "  <tbody>\n",
       "    <tr>\n",
       "      <th>76561198027267313</th>\n",
       "      <td>21</td>\n",
       "      <td>0</td>\n",
       "    </tr>\n",
       "    <tr>\n",
       "      <th>76561198101732759</th>\n",
       "      <td>18</td>\n",
       "      <td>1</td>\n",
       "    </tr>\n",
       "    <tr>\n",
       "      <th>76561198204507685</th>\n",
       "      <td>17</td>\n",
       "      <td>0</td>\n",
       "    </tr>\n",
       "    <tr>\n",
       "      <th>76561198989761658</th>\n",
       "      <td>17</td>\n",
       "      <td>0</td>\n",
       "    </tr>\n",
       "    <tr>\n",
       "      <th>76561198005985435</th>\n",
       "      <td>16</td>\n",
       "      <td>2</td>\n",
       "    </tr>\n",
       "  </tbody>\n",
       "</table>\n",
       "</div>"
      ],
      "text/plain": [
       "is_positive        Negative  Positive\n",
       "author_id                            \n",
       "76561198027267313        21         0\n",
       "76561198101732759        18         1\n",
       "76561198204507685        17         0\n",
       "76561198989761658        17         0\n",
       "76561198005985435        16         2"
      ]
     },
     "execution_count": 18,
     "metadata": {},
     "output_type": "execute_result"
    }
   ],
   "source": [
    "avis_user.sort_values(by=\"Negative\",ascending = False).head(5)"
   ]
  },
  {
   "cell_type": "markdown",
   "id": "30010065-482e-410c-9ca1-285146a3a5b8",
   "metadata": {},
   "source": [
    "### Verifier les utilisateurs qui publient plusieurs commentaires sur le même jeu"
   ]
  },
  {
   "cell_type": "code",
   "execution_count": 19,
   "id": "67716bcb-5464-468f-bdb8-52aaf9e78cd3",
   "metadata": {
    "scrolled": true
   },
   "outputs": [
    {
     "data": {
      "text/html": [
       "<div>\n",
       "<style scoped>\n",
       "    .dataframe tbody tr th:only-of-type {\n",
       "        vertical-align: middle;\n",
       "    }\n",
       "\n",
       "    .dataframe tbody tr th {\n",
       "        vertical-align: top;\n",
       "    }\n",
       "\n",
       "    .dataframe thead th {\n",
       "        text-align: right;\n",
       "    }\n",
       "</style>\n",
       "<table border=\"1\" class=\"dataframe\">\n",
       "  <thead>\n",
       "    <tr style=\"text-align: right;\">\n",
       "      <th></th>\n",
       "      <th>author_id</th>\n",
       "      <th>app_id</th>\n",
       "      <th>Nb_avis</th>\n",
       "    </tr>\n",
       "  </thead>\n",
       "  <tbody>\n",
       "  </tbody>\n",
       "</table>\n",
       "</div>"
      ],
      "text/plain": [
       "Empty DataFrame\n",
       "Columns: [author_id, app_id, Nb_avis]\n",
       "Index: []"
      ]
     },
     "execution_count": 19,
     "metadata": {},
     "output_type": "execute_result"
    }
   ],
   "source": [
    "user_game_reviews = df.groupby(['author_id', 'app_id']).size().reset_index(name='Nb_avis')\n",
    "multiple_reviews = user_game_reviews[user_game_reviews['Nb_avis'] > 1]\n",
    "multiple_reviews"
   ]
  },
  {
   "cell_type": "markdown",
   "id": "f2cc240e-4d00-438a-9ca4-f2999445ae41",
   "metadata": {},
   "source": [
    "### La longueure des avis"
   ]
  },
  {
   "cell_type": "code",
   "execution_count": 20,
   "id": "8e6bd97b-14b3-4861-b0f0-e8ff8d35191b",
   "metadata": {
    "scrolled": true
   },
   "outputs": [
    {
     "name": "stdout",
     "output_type": "stream",
     "text": [
      "La longueure du commentaire le plus long:  419580.0\n",
      "La longueure du commentaire le plus court:  1.0\n",
      "La longueure moyenne des commentaires: 143.12303522765203\n",
      "La longueure du commentaire positif le plus long:  8000.0\n",
      "La longueure du commentaire négatif le plus long:  419580.0\n"
     ]
    }
   ],
   "source": [
    "df[\"Longueur avis\"] = df[\"content\"].str.len()\n",
    "print(\"La longueure du commentaire le plus long: \",df[\"Longueur avis\"].max())\n",
    "print(\"La longueure du commentaire le plus court: \",df[\"Longueur avis\"].min())\n",
    "print(\"La longueure moyenne des commentaires:\",df[\"Longueur avis\"].mean())\n",
    "print(\"La longueure du commentaire positif le plus long: \",df[df[\"is_positive\"] == \"Positive\"][\"Longueur avis\"].max())\n",
    "print(\"La longueure du commentaire négatif le plus long: \",df[df[\"is_positive\"] == \"Negative\"][\"Longueur avis\"].max())"
   ]
  },
  {
   "cell_type": "markdown",
   "id": "e5851c3a-9563-46fe-acf0-90744f09b7ec",
   "metadata": {},
   "source": [
    "### Les mots les plus fréquents dans les commentaires positifs et négatifs"
   ]
  },
  {
   "cell_type": "markdown",
   "id": "fccc973c-0430-4cc6-8135-c84810dbd820",
   "metadata": {},
   "source": [
    "##### Etape 01: Prétraitement des textes\n",
    "##### Etape 02: Séparation des avis positifs et négatifs\n",
    "##### Étape 03 : Calcul de la fréquence des mots"
   ]
  },
  {
   "cell_type": "code",
   "execution_count": 21,
   "id": "cda7e450-c2c6-4536-bce6-4bc9bfa5d718",
   "metadata": {},
   "outputs": [],
   "source": [
    "from collections import Counter\n",
    "import re\n",
    "from nltk.corpus import stopwords\n",
    "from nltk.tokenize import word_tokenize\n",
    "import nltk"
   ]
  },
  {
   "cell_type": "code",
   "execution_count": 22,
   "id": "41145ab7-5645-4fc2-bf42-d27d6548ed83",
   "metadata": {
    "scrolled": true
   },
   "outputs": [
    {
     "name": "stderr",
     "output_type": "stream",
     "text": [
      "[nltk_data] Downloading package stopwords to\n",
      "[nltk_data]     C:\\Users\\Mpscomputer\\AppData\\Roaming\\nltk_data...\n",
      "[nltk_data]   Package stopwords is already up-to-date!\n",
      "[nltk_data] Downloading package punkt to\n",
      "[nltk_data]     C:\\Users\\Mpscomputer\\AppData\\Roaming\\nltk_data...\n",
      "[nltk_data]   Package punkt is already up-to-date!\n"
     ]
    },
    {
     "data": {
      "text/plain": [
       "True"
      ]
     },
     "execution_count": 22,
     "metadata": {},
     "output_type": "execute_result"
    }
   ],
   "source": [
    "nltk.download('stopwords')\n",
    "nltk.download('punkt')"
   ]
  },
  {
   "cell_type": "code",
   "execution_count": 23,
   "id": "a64fff4a-9e65-45ca-bee3-2834974da74d",
   "metadata": {},
   "outputs": [],
   "source": [
    "def clean_text(text):\n",
    "    text = re.sub(r'[^\\w\\s]', '', text)\n",
    "    tokens = word_tokenize(text) \n",
    "    tokens = [word for word in tokens if word not in stopwords.words('english')]\n",
    "    return tokens"
   ]
  },
  {
   "cell_type": "markdown",
   "id": "3754c978-a0e1-4efc-9ca4-8e2494fb5b2e",
   "metadata": {},
   "source": [
    "##### On va garder que les textes qui ont plus de 5 mots "
   ]
  },
  {
   "cell_type": "code",
   "execution_count": 24,
   "id": "8f13cc83-50b2-49f1-a57e-be1f9f0ae35b",
   "metadata": {},
   "outputs": [],
   "source": [
    "df2 = df[df[\"content\"].str.len() > 5]"
   ]
  },
  {
   "cell_type": "code",
   "execution_count": 25,
   "id": "9586fda6-3782-4c9e-b8c0-1f12cc508677",
   "metadata": {},
   "outputs": [
    {
     "data": {
      "text/plain": [
       "(201151, 6)"
      ]
     },
     "execution_count": 25,
     "metadata": {},
     "output_type": "execute_result"
    }
   ],
   "source": [
    "df.shape"
   ]
  },
  {
   "cell_type": "code",
   "execution_count": 26,
   "id": "1616c15e-2c38-4330-a381-7c236fd9e495",
   "metadata": {},
   "outputs": [
    {
     "data": {
      "text/plain": [
       "(182723, 6)"
      ]
     },
     "execution_count": 26,
     "metadata": {},
     "output_type": "execute_result"
    }
   ],
   "source": [
    "df2.shape"
   ]
  },
  {
   "cell_type": "code",
   "execution_count": 27,
   "id": "1566c575-6278-4d96-a60e-e8823b98c12a",
   "metadata": {
    "scrolled": true
   },
   "outputs": [],
   "source": [
    "avis_pos = df2[df2[\"is_positive\"] == \"Positive\"][\"content\"].str.lower().fillna('')\n",
    "avis_neg = df2[df2[\"is_positive\"] == \"Negative\"][\"content\"].str.lower().fillna('')"
   ]
  },
  {
   "cell_type": "code",
   "execution_count": 28,
   "id": "3c62fcfc-1cd2-45e1-887c-e72896c1d47f",
   "metadata": {},
   "outputs": [],
   "source": [
    "positive_tokens = [word for avis in avis_pos for word in clean_text(avis)]\n",
    "negative_tokens = [word for avis in avis_neg for word in clean_text(avis)]"
   ]
  },
  {
   "cell_type": "markdown",
   "id": "210e3744-1e10-41ef-8ec2-0cd224fe7d2c",
   "metadata": {},
   "source": [
    "Il ya des numeros dans les listes, on va les supprimer"
   ]
  },
  {
   "cell_type": "code",
   "execution_count": 39,
   "id": "f659399e-5ab5-4dbf-b370-04bc41568821",
   "metadata": {},
   "outputs": [],
   "source": [
    "def is_word(token):\n",
    "    return bool(re.match(r'^[a-zA-Z]+$', token))"
   ]
  },
  {
   "cell_type": "code",
   "execution_count": 40,
   "id": "4b0de124-681b-44d1-a97b-5ca6fd0e22e4",
   "metadata": {},
   "outputs": [],
   "source": [
    "positive_tokens = [word for word in positive_tokens if is_word(word)]\n",
    "negative_tokens = [word for word in negative_tokens if is_word(word)]"
   ]
  },
  {
   "cell_type": "code",
   "execution_count": 41,
   "id": "955b3e85-7b8b-4991-b490-0e6dfe3e4011",
   "metadata": {
    "scrolled": true
   },
   "outputs": [
    {
     "name": "stdout",
     "output_type": "stream",
     "text": [
      "Mots les plus fréquents dans les avis positifs :\n",
      "[('game', 53662), ('good', 17207), ('fun', 13994), ('play', 12408), ('like', 10290), ('still', 8516), ('one', 8132), ('great', 7822), ('best', 7624), ('halflife', 7581), ('life', 7130), ('games', 6571), ('get', 6185), ('time', 6184), ('half', 6005), ('really', 5843), ('playing', 5048), ('better', 4965), ('played', 4831), ('dont', 4598)]\n",
      "\n",
      "Mots les plus fréquents dans les avis négatifs :\n",
      "[('game', 77343), ('play', 17040), ('valve', 14338), ('like', 12854), ('dont', 12668), ('get', 11124), ('bots', 10758), ('time', 9522), ('even', 9144), ('good', 8806), ('fix', 8614), ('games', 8581), ('one', 8062), ('shit', 6757), ('playing', 6604), ('bad', 6570), ('cant', 6407), ('people', 6340), ('fun', 6312), ('really', 5774)]\n"
     ]
    }
   ],
   "source": [
    "positive_word_counts = Counter(positive_tokens).most_common(20)\n",
    "negative_word_counts = Counter(negative_tokens).most_common(20)\n",
    "\n",
    "print(\"Mots les plus fréquents dans les avis positifs :\")\n",
    "print(positive_word_counts)\n",
    "\n",
    "print(\"\\nMots les plus fréquents dans les avis négatifs :\")\n",
    "print(negative_word_counts)"
   ]
  },
  {
   "cell_type": "markdown",
   "id": "035682d1-563d-4542-85b2-1cbc8194cef9",
   "metadata": {},
   "source": [
    "# 2. Construction de l'index :"
   ]
  },
  {
   "cell_type": "markdown",
   "id": "714995cb-1402-43ba-b8bb-26e19f26f52b",
   "metadata": {},
   "source": [
    "### Parcourir le corpus pour extraire les mots et leurs positions"
   ]
  },
  {
   "cell_type": "code",
   "execution_count": 69,
   "id": "6879982a-e695-4fc8-b358-5ab53c86fdea",
   "metadata": {},
   "outputs": [],
   "source": [
    "corpus = df2[\"content\"].str.lower().fillna('')"
   ]
  },
  {
   "cell_type": "code",
   "execution_count": 58,
   "id": "cc695aaf-58be-4da8-ae8e-ea38b3c7734e",
   "metadata": {},
   "outputs": [
    {
     "data": {
      "text/plain": [
       "182723"
      ]
     },
     "execution_count": 58,
     "metadata": {},
     "output_type": "execute_result"
    }
   ],
   "source": [
    "len(corpus)"
   ]
  },
  {
   "cell_type": "code",
   "execution_count": 92,
   "id": "fe9ed7b8-cc3e-4dfa-b107-4939e61ea1ca",
   "metadata": {},
   "outputs": [],
   "source": [
    "from collections import defaultdict\n",
    "import re\n",
    "\n",
    "# Fonction pour nettoyer le texte et extraire les mots\n",
    "def tokenize(text):\n",
    "    text = re.sub(r'[^\\w\\s]', '', text.lower())\n",
    "    tokens = text.split()\n",
    "    tokens = [word for word in tokens if re.match(r'^[a-zA-Z]+$', word)]\n",
    "    return tokens\n",
    "\n",
    "# Initialiser un dictionnaire pour stocker les mots et leurs positions\n",
    "word_positions = defaultdict(list)\n",
    "\n",
    "# Parcourir le corpus\n",
    "for doc_id, text in enumerate(corpus):\n",
    "    words = tokenize(text)\n",
    "    for word_index, word in enumerate(words):\n",
    "        word_positions[word].append((doc_id + 1, word_index + 1))\n",
    "\n",
    "# Convertion en dict\n",
    "word_positions = dict(word_positions)\n",
    "\n",
    "# Affichage\n",
    "# for word, positions in word_positions.items():\n",
    "#     print(f\"Mot: '{word}', Nombre de documents: {len(set([p[0] for p in positions]))}, Positions: {positions}\")\n"
   ]
  },
  {
   "cell_type": "markdown",
   "id": "11308efe-ad67-4a58-804f-cccd4eab549a",
   "metadata": {},
   "source": [
    "# 3.Implémentation de la recherche"
   ]
  },
  {
   "cell_type": "code",
   "execution_count": 89,
   "id": "7bc26d10-0baa-4de1-a7db-193e772e7e2e",
   "metadata": {},
   "outputs": [],
   "source": [
    "def find_pos_exp(expression, documents = corpus):\n",
    "    results = {}\n",
    "    expression = re.sub(r'[^\\w\\s]', '', expression.lower())\n",
    "    \n",
    "    for doc_id, text in enumerate(documents):\n",
    "        words = re.sub(r'[^\\w\\s]', '', text.lower()).split()\n",
    "        positions = [i for i in range(len(words)) if ' '.join(words[i:i+len(expression.split())]) == expression]\n",
    "        \n",
    "        if positions:\n",
    "            results[doc_id] = positions\n",
    "\n",
    "    for doc_id, positions in results.items():\n",
    "        print(f\"Mot trouvé dans le document {doc_id} aux positions {positions}\")\n",
    "    \n",
    "    return results"
   ]
  },
  {
   "cell_type": "code",
   "execution_count": 97,
   "id": "127e1964-e0dd-4e63-9948-906ca51180c3",
   "metadata": {},
   "outputs": [],
   "source": [
    "# find_pos_exp(\"playthrough has\")"
   ]
  },
  {
   "cell_type": "markdown",
   "id": "a804042b-f642-48f3-a7d6-46124aa308d6",
   "metadata": {},
   "source": [
    "# 4. Documentation et interface : "
   ]
  },
  {
   "cell_type": "code",
   "execution_count": 95,
   "id": "7ad2eaa7-2117-435e-9a3f-03ae30f278d2",
   "metadata": {},
   "outputs": [],
   "source": [
    "import streamlit as st\n",
    "from wordcloud import WordCloud\n",
    "import matplotlib.pyplot as plt"
   ]
  },
  {
   "cell_type": "code",
   "execution_count": 104,
   "id": "0b718b02-d088-43ac-ae0d-5cdb554ac023",
   "metadata": {},
   "outputs": [],
   "source": [
    "def clean(text):\n",
    "    text = re.sub(r'[^\\w\\s]', '', text.lower())\n",
    "    return text.split()\n",
    "\n",
    "def generate_context_word_cloud(corpus, query):\n",
    "    \"\"\"\n",
    "    Génère un WordCloud des mots précédant et suivant une expression donnée.\n",
    "    \n",
    "    Parameters:\n",
    "        corpus (list): Liste de documents.\n",
    "        query (str): Mot ou expression à rechercher.\n",
    "    \"\"\"\n",
    "    context_words = []\n",
    "    query_cleaned = re.sub(r'[^\\w\\s]', '', query.lower())\n",
    "\n",
    "    for doc in corpus:\n",
    "        words = clean(doc)\n",
    "        for i in range(len(words) - len(query_cleaned.split()) + 1):\n",
    "            # Vérifie si la séquence correspond à l'expression\n",
    "            if ' '.join(words[i:i+len(query_cleaned.split())]) == query_cleaned:\n",
    "                if i > 0:  # Ajouter le mot précédent\n",
    "                    context_words.append(words[i-1])\n",
    "                if i + len(query_cleaned.split()) < len(words):  # Ajouter le mot suivant\n",
    "                    context_words.append(words[i+len(query_cleaned.split())])\n",
    "\n",
    "    # Générer le WordCloud\n",
    "    wordcloud = WordCloud(width=800, height=400, background_color='white').generate(' '.join(context_words))\n",
    "    plt.figure(figsize=(10, 5))\n",
    "    plt.imshow(wordcloud, interpolation='bilinear')\n",
    "    plt.axis('off')\n",
    "    plt.title(f\"WordCloud des mots autour de '{query}'\", fontsize=14)\n",
    "    plt.show()\n",
    "\n",
    "# Recherche et génération du WordCloud\n",
    "# generate_context_word_cloud(corpus, \"bad\")"
   ]
  },
  {
   "cell_type": "markdown",
   "id": "8b6b3179-7191-4c0f-8c67-ec124b6f4469",
   "metadata": {},
   "source": [
    "### Fonctionnement de l'application:"
   ]
  },
  {
   "cell_type": "markdown",
   "id": "37447c6f-d378-4bfc-932d-bac04c0f3295",
   "metadata": {},
   "source": [
    "L'utilisateur doit d'abord choisir le dataset, un ensemble de stats vont apparaitre, puis l'utilsateur doit choisir un mot, le système lui retournera\n",
    "un extrait de l’expression au sein d’un texte, Nombre d’apparition dans l’ensemble des documents, et le word Cloud"
   ]
  }
 ],
 "metadata": {
  "kernelspec": {
   "display_name": "Python 3 (ipykernel)",
   "language": "python",
   "name": "python3"
  },
  "language_info": {
   "codemirror_mode": {
    "name": "ipython",
    "version": 3
   },
   "file_extension": ".py",
   "mimetype": "text/x-python",
   "name": "python",
   "nbconvert_exporter": "python",
   "pygments_lexer": "ipython3",
   "version": "3.11.2"
  }
 },
 "nbformat": 4,
 "nbformat_minor": 5
}
